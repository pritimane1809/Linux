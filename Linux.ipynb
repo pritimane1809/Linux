{
  "nbformat": 4,
  "nbformat_minor": 0,
  "metadata": {
    "colab": {
      "provenance": []
    },
    "kernelspec": {
      "name": "python3",
      "display_name": "Python 3"
    },
    "language_info": {
      "name": "python"
    }
  },
  "cells": [
    {
      "cell_type": "code",
      "execution_count": null,
      "metadata": {
        "id": "KCMzXbr7CA-b"
      },
      "outputs": [],
      "source": []
    },
    {
      "cell_type": "markdown",
      "source": [
        "#question 6"
      ],
      "metadata": {
        "id": "XdjLM2jmT8S5"
      }
    },
    {
      "cell_type": "code",
      "source": [
        "#create the user and gropus\n",
        "useradd p1\n",
        "groupadd g1\n",
        "groupadd g2\n",
        "groupadd g3\n",
        "\n",
        "#add user 'p1' to 'g1''g2''g3'\n",
        "usermood -a -G g1,g2,g3 p1\n",
        "\n",
        "\n",
        "\n",
        "\n"
      ],
      "metadata": {
        "id": "yiiB6gNQUERM"
      },
      "execution_count": null,
      "outputs": []
    },
    {
      "cell_type": "markdown",
      "source": [
        "#question 7"
      ],
      "metadata": {
        "id": "NwB-n0txUkZU"
      }
    },
    {
      "cell_type": "code",
      "source": [
        "#create the directory as root\n",
        "sudo mkdir /tmp/bg\n",
        "\n",
        "#change ownership\n",
        "chown abhi /tmp/bg\n",
        "\n",
        "#set permission to 'abhi'\n",
        "chmod 700 /tmp/bgh"
      ],
      "metadata": {
        "id": "Tg7N6oVTUoa0"
      },
      "execution_count": null,
      "outputs": []
    }
  ]
}